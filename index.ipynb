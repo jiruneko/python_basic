{
 "cells": [
  {
   "cell_type": "code",
   "execution_count": 14,
   "id": "6124a2f8",
   "metadata": {},
   "outputs": [
    {
     "name": "stdout",
     "output_type": "stream",
     "text": [
      "[1, 2, 3, 4, 5, 6, 7, 8, 9, 10]\n"
     ]
    }
   ],
   "source": [
    "data_list = [1,2,3,4,5,6,7,8,9,10]\n",
    "print(data_list)"
   ]
  },
  {
   "cell_type": "code",
   "execution_count": 15,
   "id": "89f79cf1",
   "metadata": {},
   "outputs": [
    {
     "name": "stdout",
     "output_type": "stream",
     "text": [
      "変数のタイプ： <class 'list'>\n"
     ]
    }
   ],
   "source": [
    "print('変数のタイプ：', type(data_list))"
   ]
  },
  {
   "cell_type": "code",
   "execution_count": 16,
   "id": "43731567",
   "metadata": {},
   "outputs": [
    {
     "name": "stdout",
     "output_type": "stream",
     "text": [
      "2番目の数 2\n"
     ]
    }
   ],
   "source": [
    "print('2番目の数', data_list[1])"
   ]
  },
  {
   "cell_type": "code",
   "execution_count": 17,
   "id": "5c424985",
   "metadata": {},
   "outputs": [
    {
     "name": "stdout",
     "output_type": "stream",
     "text": [
      "要素数： 10\n"
     ]
    }
   ],
   "source": [
    "print('要素数：', len(data_list))"
   ]
  },
  {
   "cell_type": "code",
   "execution_count": 18,
   "id": "1f37b9d2",
   "metadata": {},
   "outputs": [
    {
     "data": {
      "text/plain": [
       "[1, 2, 3, 4, 5, 6, 7, 8, 9, 10, 1, 2, 3, 4, 5, 6, 7, 8, 9, 10]"
      ]
     },
     "execution_count": 18,
     "metadata": {},
     "output_type": "execute_result"
    }
   ],
   "source": [
    "data_list * 2"
   ]
  },
  {
   "cell_type": "code",
   "execution_count": 19,
   "id": "1ec68153",
   "metadata": {},
   "outputs": [
    {
     "name": "stdout",
     "output_type": "stream",
     "text": [
      "1\n",
      "3\n",
      "5\n",
      "7\n",
      "9\n"
     ]
    }
   ],
   "source": [
    "for i in range(1, 11, 2):\n",
    "    print(i)"
   ]
  },
  {
   "cell_type": "code",
   "execution_count": 20,
   "id": "44259783",
   "metadata": {},
   "outputs": [
    {
     "name": "stdout",
     "output_type": "stream",
     "text": [
      "[2, 4, 6, 8, 10, 12, 14, 16, 18, 20]\n"
     ]
    }
   ],
   "source": [
    "data_list1 = []\n",
    "\n",
    "data_list1 = [i * 2 for i in data_list]\n",
    "print(data_list1)"
   ]
  },
  {
   "cell_type": "code",
   "execution_count": 21,
   "id": "6e693757",
   "metadata": {},
   "outputs": [
    {
     "data": {
      "text/plain": [
       "[4, 8, 12, 16, 20]"
      ]
     },
     "execution_count": 21,
     "metadata": {},
     "output_type": "execute_result"
    }
   ],
   "source": [
    "[i * 2 for i in data_list if i % 2 == 0]"
   ]
  },
  {
   "cell_type": "code",
   "execution_count": 22,
   "id": "1674ade7",
   "metadata": {},
   "outputs": [
    {
     "name": "stdout",
     "output_type": "stream",
     "text": [
      "1 と 11\n",
      "2 と 12\n",
      "3 と 13\n"
     ]
    }
   ],
   "source": [
    "for one, two in zip([1, 2, 3] ,[11, 12, 13]):\n",
    "    print(one, 'と', two)"
   ]
  },
  {
   "cell_type": "code",
   "execution_count": 23,
   "id": "740cd69f",
   "metadata": {},
   "outputs": [],
   "source": [
    "def calc_fib(n):\n",
    "    if n == 1 or n == 2:\n",
    "        return 1\n",
    "    else:\n",
    "        return calc_fib(n - 1) + calc_fib(n - 2)"
   ]
  },
  {
   "cell_type": "code",
   "execution_count": 25,
   "id": "e0fd1006",
   "metadata": {},
   "outputs": [
    {
     "name": "stdout",
     "output_type": "stream",
     "text": [
      "フィボナッチ数列： 55\n"
     ]
    }
   ],
   "source": [
    "print('フィボナッチ数列：', calc_fib(10))"
   ]
  },
  {
   "cell_type": "code",
   "execution_count": 27,
   "id": "2260c22e",
   "metadata": {},
   "outputs": [
    {
     "name": "stdout",
     "output_type": "stream",
     "text": [
      "10 100\n"
     ]
    }
   ],
   "source": [
    "class PrintClass:\n",
    "    def print_me(self):\n",
    "        print(self.x, self.y)\n",
    "        \n",
    "pl = PrintClass()\n",
    "\n",
    "pl.x = 10\n",
    "pl.y = 100\n",
    "pl.z = 1000\n",
    "\n",
    "pl.print_me()"
   ]
  },
  {
   "cell_type": "code",
   "execution_count": 28,
   "id": "025775d4",
   "metadata": {},
   "outputs": [
    {
     "data": {
      "text/plain": [
       "1000"
      ]
     },
     "execution_count": 28,
     "metadata": {},
     "output_type": "execute_result"
    }
   ],
   "source": [
    "pl.z"
   ]
  },
  {
   "cell_type": "code",
   "execution_count": 31,
   "id": "2f629c14",
   "metadata": {},
   "outputs": [],
   "source": [
    "class MyCalcClass:\n",
    "    \n",
    "    def __init__(self, x, y):\n",
    "        self.x = x\n",
    "        self.y = y\n",
    "        \n",
    "    def calc_add1(self, a, b):\n",
    "        return a + b\n",
    "    \n",
    "    def calc_add2(self):\n",
    "        return self.x + self.y\n",
    "    \n",
    "    def calc_multi(self, a, b):\n",
    "        return a * b\n",
    "    \n",
    "    def calc_print(self, a):\n",
    "        print('data:{0}：yの値{1}'.format(a, self.y))"
   ]
  },
  {
   "cell_type": "code",
   "execution_count": 32,
   "id": "2dc77945",
   "metadata": {},
   "outputs": [],
   "source": [
    "instance_1 = MyCalcClass(1, 2)\n",
    "instance_2 = MyCalcClass(5, 10)"
   ]
  },
  {
   "cell_type": "code",
   "execution_count": 36,
   "id": "c1405003",
   "metadata": {},
   "outputs": [
    {
     "name": "stdout",
     "output_type": "stream",
     "text": [
      "２つの数の足し算(新たに数字を引数としてセット): 8\n",
      "２つの数の足し算(インスタンス化の時の値)： 3\n",
      "２つの数の掛け算： 15\n",
      "data:5：yの値2\n"
     ]
    }
   ],
   "source": [
    "print('２つの数の足し算(新たに数字を引数としてセット):', instance_1.calc_add1(5, 3))\n",
    "print('２つの数の足し算(インスタンス化の時の値)：', instance_1.calc_add2())\n",
    "print(\"２つの数の掛け算：\", instance_1.calc_multi(5, 3))\n",
    "instance_1.calc_print(5)"
   ]
  },
  {
   "cell_type": "code",
   "execution_count": 38,
   "id": "d05e7fd7",
   "metadata": {},
   "outputs": [
    {
     "name": "stdout",
     "output_type": "stream",
     "text": [
      "２つの数の足し算(新たに数字を引数としてセット): 13\n",
      "２つの数の足し算(インスタンス化の時の値)： 15\n",
      "２つの数の掛け算： 12\n",
      "data:20：yの値10\n"
     ]
    }
   ],
   "source": [
    "print('２つの数の足し算(新たに数字を引数としてセット):', instance_2.calc_add1(10, 3))\n",
    "print('２つの数の足し算(インスタンス化の時の値)：', instance_2.calc_add2())\n",
    "print(\"２つの数の掛け算：\", instance_2.calc_multi(4, 3))\n",
    "instance_2.calc_print(20)"
   ]
  },
  {
   "cell_type": "code",
   "execution_count": null,
   "id": "2ae641f3",
   "metadata": {},
   "outputs": [],
   "source": []
  }
 ],
 "metadata": {
  "kernelspec": {
   "display_name": "Python 3 (ipykernel)",
   "language": "python",
   "name": "python3"
  },
  "language_info": {
   "codemirror_mode": {
    "name": "ipython",
    "version": 3
   },
   "file_extension": ".py",
   "mimetype": "text/x-python",
   "name": "python",
   "nbconvert_exporter": "python",
   "pygments_lexer": "ipython3",
   "version": "3.9.17"
  }
 },
 "nbformat": 4,
 "nbformat_minor": 5
}
